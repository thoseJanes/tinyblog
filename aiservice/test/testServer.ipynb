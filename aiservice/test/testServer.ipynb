{
 "cells": [
  {
   "cell_type": "code",
   "execution_count": null,
   "metadata": {},
   "outputs": [
    {
     "name": "stdout",
     "output_type": "stream",
     "text": [
      "Server started, listening on port 50051\n",
      "requested\n",
      "requested\n",
      "requested\n"
     ]
    }
   ],
   "source": [
    "from concurrent import futures\n",
    "import grpc\n",
    "from pkg.proto.aiservice.v1 import aiservice_pb2\n",
    "from pkg.proto.aiservice.v1 import aiservice_pb2_grpc\n",
    "from pkg.proto.aiservice.v1.aiservice_pb2 import PromptContentRequest, GenerateTitleAndTagResponse\n",
    "from internal.pkg.runnable.generateTitleAndTagChain import GenerateTitleAndTagChain, OutputModel\n",
    "\n",
    "\n",
    "import asyncio\n",
    "\n",
    "class AIService(aiservice_pb2_grpc.AIService):\n",
    "    async def GenerateTitleAndTag(self, request:aiservice_pb2.PromptContentRequest, context:grpc.ServicerContext):\n",
    "        print(\"requested\")\n",
    "        resp:OutputModel = await GenerateTitleAndTagChain.ainvoke(request.prompt, request.content)\n",
    "        return GenerateTitleAndTagResponse(title=resp.title, tags=resp.tags)\n",
    "\n",
    "async def serve():\n",
    "    #service中的方法需要是线程安全的。\n",
    "    server = grpc.aio.server(futures.ThreadPoolExecutor(max_workers=10))\n",
    "    aiservice_pb2_grpc.add_AIServiceServicer_to_server(AIService(), server)\n",
    "    server.add_insecure_port('[::]:50051')\n",
    "    await server.start()\n",
    "    print(\"Server started, listening on port 50051\")\n",
    "    await server.wait_for_termination()\n",
    "\n",
    "import nest_asyncio  # pip install nest_asyncio\n",
    "nest_asyncio.apply()  # 允许嵌套事件循环\n",
    "\n",
    "if __name__ == '__main__':\n",
    "    await serve()\n",
    "    # asyncio.run(serve())"
   ]
  }
 ],
 "metadata": {
  "kernelspec": {
   "display_name": "base",
   "language": "python",
   "name": "python3"
  },
  "language_info": {
   "codemirror_mode": {
    "name": "ipython",
    "version": 3
   },
   "file_extension": ".py",
   "mimetype": "text/x-python",
   "name": "python",
   "nbconvert_exporter": "python",
   "pygments_lexer": "ipython3",
   "version": "3.12.2"
  }
 },
 "nbformat": 4,
 "nbformat_minor": 2
}
