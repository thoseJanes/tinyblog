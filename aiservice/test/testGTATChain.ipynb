{
 "cells": [
  {
   "cell_type": "code",
   "execution_count": null,
   "metadata": {},
   "outputs": [],
   "source": [
    "from internal.pkg.runnable.generateTitleAndTagChain import GenerateTitleAndTagChain\n",
    "from time import sleep\n",
    "chain = GenerateTitleAndTagChain\n",
    "resp = await GenerateTitleAndTagChain.ainvoke(\"一个活泼生动的标题，带颜文字修饰\", \"\"\"\n",
    "    https://github.com/AnthonyCalandra/modern-cpp-features\n",
    "    C++11：\n",
    "\n",
    "    万能引用、引用折叠、完美转发\n",
    "\n",
    "    constexpr修饰的函数体必须是单个 return 语句（C++11/C++14）。\n",
    "\n",
    "    const和constexpr\n",
    "\n",
    "    C++17：\n",
    "\n",
    "    string_view\n",
    "    constexpr可以修饰相对复杂函数（之前只能修饰只有一个return语句的函数）\n",
    "    \"\"\")"
   ]
  },
  {
   "cell_type": "code",
   "execution_count": null,
   "metadata": {},
   "outputs": [],
   "source": [
    "print(resp)\n",
    "title=resp.title\n",
    "tags=resp.tags"
   ]
  },
  {
   "cell_type": "code",
   "execution_count": null,
   "metadata": {},
   "outputs": [],
   "source": [
    "from internal.pkg.runnable.generateTitleAndTagChain import GenerateTitleAndTagChain\n",
    "from time import sleep\n",
    "import asyncio\n",
    "\n",
    "async def func2():\n",
    "    for i in range(500):\n",
    "        await asyncio.sleep(0.1)\n",
    "        print(\"test\" + str(i) + \"\\n\")\n",
    "\n",
    "async def func():\n",
    "    chain = GenerateTitleAndTagChain()\n",
    "    await chain.invoke(\"一个活泼生动的标题，带颜文字修饰\", \"\"\"\n",
    "    https://github.com/AnthonyCalandra/modern-cpp-features\n",
    "    C++11：\n",
    "\n",
    "    万能引用、引用折叠、完美转发\n",
    "\n",
    "    constexpr修饰的函数体必须是单个 return 语句（C++11/C++14）。\n",
    "\n",
    "    const和constexpr\n",
    "\n",
    "    C++17：\n",
    "\n",
    "    string_view\n",
    "    constexpr可以修饰相对复杂函数（之前只能修饰只有一个return语句的函数）\n",
    "    \"\"\")\n",
    "\n",
    "async def main():\n",
    "    await asyncio.gather(func(), func2())\n",
    "\n",
    "# 在ipynb中，如果之前已经开启了一个事件循环，那么当前就已经在事件循环内，需要通过嵌套事件循环运行。\n",
    "import nest_asyncio  # pip install nest_asyncio\n",
    "nest_asyncio.apply()  # 允许嵌套事件循环\n",
    "result = await main()  # 直接await\n",
    "   "
   ]
  },
  {
   "cell_type": "code",
   "execution_count": null,
   "metadata": {},
   "outputs": [],
   "source": [
    "async def func1():\n",
    "    for i in range(100):\n",
    "        print(\"test\")\n",
    "        await asyncio.sleep(0)\n",
    "\n",
    "async def func2():\n",
    "    await func1()\n",
    "\n",
    "async def main():\n",
    "    await asyncio.gather(func2())\n",
    "\n",
    "asyncio.run(main())"
   ]
  }
 ],
 "metadata": {
  "kernelspec": {
   "display_name": "base",
   "language": "python",
   "name": "python3"
  },
  "language_info": {
   "codemirror_mode": {
    "name": "ipython",
    "version": 3
   },
   "file_extension": ".py",
   "mimetype": "text/x-python",
   "name": "python",
   "nbconvert_exporter": "python",
   "pygments_lexer": "ipython3",
   "version": "3.12.2"
  }
 },
 "nbformat": 4,
 "nbformat_minor": 2
}
