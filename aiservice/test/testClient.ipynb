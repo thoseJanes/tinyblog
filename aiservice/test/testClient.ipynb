{
 "cells": [
  {
   "cell_type": "code",
   "execution_count": null,
   "metadata": {},
   "outputs": [
    {
     "name": "stdout",
     "output_type": "stream",
     "text": [
      "title 活出精彩：每日小确幸分享\n",
      "title ['生活趣事', '快乐日常', '正能量', '心情日记']\n"
     ]
    }
   ],
   "source": [
    "import grpc\n",
    "from pkg.proto.aiservice.v1.aiservice_pb2 import GenerateTitleAndTagResponse, PromptContentRequest\n",
    "from pkg.proto.aiservice.v1.aiservice_pb2_grpc import AIServiceStub\n",
    "\n",
    "if __name__ == '__main__':\n",
    "    channel = grpc.insecure_channel(\"localhost:50051\")\n",
    "    stub:AIServiceStub = AIServiceStub(channel)\n",
    "\n",
    "\n",
    "    response:GenerateTitleAndTagResponse = stub.GenerateTitleAndTag(\n",
    "        PromptContentRequest(\n",
    "            prompt=\"博客风格要求生动活泼。\",\n",
    "            content=\"博客内容\"\n",
    "        )\n",
    "    )\n",
    "    print(\"title\", response.title)\n",
    "    print(\"title\", response.tags)"
   ]
  }
 ],
 "metadata": {
  "kernelspec": {
   "display_name": "base",
   "language": "python",
   "name": "python3"
  },
  "language_info": {
   "codemirror_mode": {
    "name": "ipython",
    "version": 3
   },
   "file_extension": ".py",
   "mimetype": "text/x-python",
   "name": "python",
   "nbconvert_exporter": "python",
   "pygments_lexer": "ipython3",
   "version": "3.12.2"
  }
 },
 "nbformat": 4,
 "nbformat_minor": 2
}
